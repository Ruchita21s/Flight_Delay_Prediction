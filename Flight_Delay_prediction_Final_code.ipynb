{
 "cells": [
  {
   "cell_type": "markdown",
   "id": "06a124d8-ace7-4494-976b-e11e049e0e01",
   "metadata": {},
   "source": [
    "# Final Project of Big Data Framework: Flight Delay Prediction\n"
   ]
  },
  {
   "cell_type": "code",
   "execution_count": 21,
   "id": "8398f03d-91df-4f86-b6b8-1c3b827be921",
   "metadata": {},
   "outputs": [],
   "source": [
    "# Import necessary libraries\n",
    "import numpy as np  # For numerical operations\n",
    "import pandas as pd  # For data manipulation and analysis\n",
    "import os  # For interacting with the operating system\n",
    "import pyspark  # For working with Spark\n",
    "from pyspark.sql import SparkSession  # For initializing SparkSession\n",
    "from pyspark.sql.types import StructType, StructField, IntegerType, StringType  # For defining schema types\n",
    "from pyspark.sql.functions import col, isnan, when, count  # For data manipulation in Spark DataFrame\n",
    "import pyspark.sql.functions as F  # Alias for commonly used functions in Spark DataFrame\n",
    "from pyspark.ml import Pipeline  # For constructing ML pipelines\n",
    "from pyspark.sql.functions import round  # For rounding values in Spark DataFrame\n",
    "from pyspark.ml.feature import StringIndexer  # For converting categorical columns to numerical\n",
    "from pyspark.ml.feature import VectorAssembler  # For assembling features into a vector column\n",
    "from pyspark.ml.classification import DecisionTreeClassifier, LogisticRegression  # For classification models\n",
    "from pyspark.ml.evaluation import MulticlassClassificationEvaluator, BinaryClassificationEvaluator  # For model evaluation\n"
   ]
  },
  {
   "cell_type": "code",
   "execution_count": 22,
   "id": "268fbc3e-e089-4171-b56a-acebc5462872",
   "metadata": {},
   "outputs": [],
   "source": [
    "# Import findspark library to locate Spark in the system\n",
    "import findspark\n",
    "# Initialize findspark to set up the required environment variables\n",
    "findspark.init()\n",
    "\n"
   ]
  },
  {
   "cell_type": "code",
   "execution_count": 23,
   "id": "b4c088ac-af42-4fa2-aa8c-c2f890d9fcc8",
   "metadata": {},
   "outputs": [
    {
     "name": "stdout",
     "output_type": "stream",
     "text": [
      "3.4.1\n"
     ]
    }
   ],
   "source": [
    "# Import the PySpark module\n",
    "from pyspark.sql import SparkSession\n",
    "\n",
    "# Create SparkSession object\n",
    "spark = SparkSession.builder \\\n",
    "                    .master('local[*]') \\\n",
    "                    .appName('flights') \\\n",
    "                    .getOrCreate()\n",
    "\n",
    "# What version of Spark?\n",
    "print(spark.version)  # Print the version of Spark"
   ]
  },
  {
   "cell_type": "markdown",
   "id": "3c8fff3b-da87-4916-beda-4afeb48a7a0c",
   "metadata": {},
   "source": [
    "After encountering Hadoop errors while attempting outlier removal and showing the correlation of features in Spark, we opted to use Pandas for this task. Once outliers were successfully removed using Pandas, we saved the preprocessed data to a file named 'preprocessed_dataset'"
   ]
  },
  {
   "cell_type": "code",
   "execution_count": 4,
   "id": "d46ae4eb-6031-47dd-b6c4-1de957a3c5a0",
   "metadata": {},
   "outputs": [
    {
     "name": "stdout",
     "output_type": "stream",
     "text": [
      "The data contain 206019 records.\n",
      "+---+---+---+-------+------+---+----+------+--------+-----+\n",
      "|mon|dom|dow|carrier|flight|org|mile|depart|duration|delay|\n",
      "+---+---+---+-------+------+---+----+------+--------+-----+\n",
      "| 10| 10|  1|     OO|  5836|ORD| 157|  8.18|      51| 27.0|\n",
      "| 11| 22|  1|     OO|  6016|ORD| 738|  7.17|     127|-19.0|\n",
      "|  5| 25|  3|     WN|  1675|SJC| 386| 12.92|      85| 22.0|\n",
      "|  3| 28|  1|     B6|   377|LGA|1076| 13.33|     182| 70.0|\n",
      "|  5| 28|  6|     B6|   904|ORD| 740|  9.58|     130| 47.0|\n",
      "+---+---+---+-------+------+---+----+------+--------+-----+\n",
      "only showing top 5 rows\n",
      "\n"
     ]
    },
    {
     "data": {
      "text/plain": [
       "[('mon', 'int'),\n",
       " ('dom', 'int'),\n",
       " ('dow', 'int'),\n",
       " ('carrier', 'string'),\n",
       " ('flight', 'int'),\n",
       " ('org', 'string'),\n",
       " ('mile', 'int'),\n",
       " ('depart', 'double'),\n",
       " ('duration', 'int'),\n",
       " ('delay', 'double')]"
      ]
     },
     "execution_count": 4,
     "metadata": {},
     "output_type": "execute_result"
    }
   ],
   "source": [
    "# Read data from CSV file\n",
    "flights = spark.read.csv('preprocessed_dataset.csv',  # Path to the CSV file\n",
    "                         sep=',',  # Separator used in the CSV file\n",
    "                         header=True,  # Treats the first row as header\n",
    "                         inferSchema=True,  # Infers the data types of columns automatically\n",
    "                         nullValue='NA')  # Specifies the null value representation in the CSV file\n",
    "\n",
    "# Get number of records\n",
    "print(\"The data contain %d records.\" % flights.count())  # Print the number of records in the DataFrame\n",
    "\n",
    "# View the first five records\n",
    "flights.show(5)  # Show the first five records in the DataFrame\n",
    "\n",
    "# Check column data types\n",
    "flights.dtypes  # Display the data types of each column in the DataFrame\n"
   ]
  },
  {
   "cell_type": "markdown",
   "id": "d816fd8d-50c3-4c23-9160-06605bec25a9",
   "metadata": {},
   "source": [
    "# Data Preprocessing "
   ]
  },
  {
   "cell_type": "code",
   "execution_count": 5,
   "id": "9321d4e4-d720-40dc-80f1-e5bd24c8f0e5",
   "metadata": {},
   "outputs": [
    {
     "name": "stdout",
     "output_type": "stream",
     "text": [
      "+-----+------------+-----------+------------+------+---+--------+--------------+-----------------+-------------+\n",
      "|month|day_of_month|day_of_week|carrier_code|flight|org|distance|departure_time|expected_duration|delay_minutes|\n",
      "+-----+------------+-----------+------------+------+---+--------+--------------+-----------------+-------------+\n",
      "|   10|          10|          1|          OO|  5836|ORD|     157|          8.18|               51|         27.0|\n",
      "|   11|          22|          1|          OO|  6016|ORD|     738|          7.17|              127|        -19.0|\n",
      "|    5|          25|          3|          WN|  1675|SJC|     386|         12.92|               85|         22.0|\n",
      "|    3|          28|          1|          B6|   377|LGA|    1076|         13.33|              182|         70.0|\n",
      "|    5|          28|          6|          B6|   904|ORD|     740|          9.58|              130|         47.0|\n",
      "|    8|           5|          5|          US|  2175|LGA|     214|          13.0|               71|        -10.0|\n",
      "|    5|          27|          5|          AA|  1240|ORD|    1197|         14.42|              195|        -11.0|\n",
      "|    8|          20|          6|          B6|   119|JFK|    1182|         14.67|              198|         20.0|\n",
      "|    2|           3|          1|          AA|  1881|JFK|    1090|         15.92|              200|         -9.0|\n",
      "|    8|          26|          5|          B6|    35|JFK|    1028|         20.58|              193|        102.0|\n",
      "|    4|           9|          5|          AA|   336|ORD|     733|          20.5|              125|         32.0|\n",
      "|    3|           8|          2|          UA|   678|ORD|     733|         10.95|              129|         55.0|\n",
      "|    8|          14|          0|          UA|   624|ORD|     612|         17.92|              109|         57.0|\n",
      "|    4|           8|          4|          OH|  5585|JFK|     301|         13.25|               88|         23.0|\n",
      "|    1|          14|          4|          UA|  1524|SFO|     414|         14.87|               91|         27.0|\n",
      "|    1|           2|          6|          AA|  1341|ORD|    1846|           7.5|              275|         26.0|\n",
      "|    6|          13|          0|          WN|   468|SFO|     337|          6.92|               80|        -10.0|\n",
      "|    4|          18|          0|          WN|  3582|SJC|     621|         12.58|              110|          1.0|\n",
      "|    4|          12|          1|          WN|   873|SJC|     333|         16.33|               70|         11.0|\n",
      "|   11|          31|          3|          US|   349|SMF|     647|          9.17|              113|          7.0|\n",
      "+-----+------------+-----------+------------+------+---+--------+--------------+-----------------+-------------+\n",
      "only showing top 20 rows\n",
      "\n"
     ]
    }
   ],
   "source": [
    "# Renaming columns\n",
    "flights= flights.withColumnRenamed('mon', 'month') \\\n",
    "       .withColumnRenamed('dom', 'day_of_month') \\\n",
    "       .withColumnRenamed('dow', 'day_of_week') \\\n",
    "       .withColumnRenamed('carrier', 'carrier_code') \\\n",
    "       .withColumnRenamed('mile', 'distance') \\\n",
    "       .withColumnRenamed('depart', 'departure_time') \\\n",
    "       .withColumnRenamed('duration', 'expected_duration') \\\n",
    "       .withColumnRenamed('delay', 'delay_minutes')\n",
    "\n",
    "# Show DataFrame\n",
    "flights.show()"
   ]
  },
  {
   "cell_type": "code",
   "execution_count": 6,
   "id": "59bafcad-1903-4bf4-ba2d-0bbe25a9526c",
   "metadata": {},
   "outputs": [
    {
     "name": "stdout",
     "output_type": "stream",
     "text": [
      "StructType([StructField('month', IntegerType(), True), StructField('day_of_month', IntegerType(), True), StructField('day_of_week', IntegerType(), True), StructField('carrier_code', StringType(), True), StructField('flight', IntegerType(), True), StructField('org', StringType(), True), StructField('distance', IntegerType(), True), StructField('departure_time', DoubleType(), True), StructField('expected_duration', IntegerType(), True), StructField('delay_minutes', DoubleType(), True)])\n"
     ]
    }
   ],
   "source": [
    "# Print the schema of the DataFrame\n",
    "print(flights.schema)"
   ]
  },
  {
   "cell_type": "code",
   "execution_count": 7,
   "id": "7f307329-6ac5-48fd-a076-1c967896d042",
   "metadata": {},
   "outputs": [
    {
     "name": "stdout",
     "output_type": "stream",
     "text": [
      "206019\n"
     ]
    }
   ],
   "source": [
    "# Remove the 'flight' column\n",
    "flights_drop_column = flights.drop('flight')  # Drops the 'flight' column from the DataFrame\n",
    "\n",
    "# Number of records with missing 'delay' values\n",
    "flights_drop_column.filter('delay IS NULL').count()  # Counts the number of records with missing 'delay' values\n",
    "\n",
    "# Remove records with missing 'delay' values\n",
    "flights_valid_delay = flights_drop_column.filter('delay IS NOT NULL')  # Filters out records with missing 'delay' values\n",
    "\n",
    "# Remove records with missing values in any column and get the number of remaining rows\n",
    "flights_clean = flights_valid_delay.dropna()  # Drops records with any missing values\n",
    "print(flights_clean.count())  # Prints the number of remaining rows after removing records with missing values\n"
   ]
  },
  {
   "cell_type": "code",
   "execution_count": 8,
   "id": "6dcb131a-cf95-42b6-9938-e5a506ae00ec",
   "metadata": {},
   "outputs": [
    {
     "name": "stdout",
     "output_type": "stream",
     "text": [
      "+-----+------------+-----------+------------+---+--------+--------------+-----------------+-------------+------+-----+\n",
      "|month|day_of_month|day_of_week|carrier_code|org|distance|departure_time|expected_duration|delay_minutes|    km|label|\n",
      "+-----+------------+-----------+------------+---+--------+--------------+-----------------+-------------+------+-----+\n",
      "|   10|          10|          1|          OO|ORD|     157|          8.18|               51|         27.0| 253.0|    1|\n",
      "|   11|          22|          1|          OO|ORD|     738|          7.17|              127|        -19.0|1188.0|    0|\n",
      "|    5|          25|          3|          WN|SJC|     386|         12.92|               85|         22.0| 621.0|    1|\n",
      "|    3|          28|          1|          B6|LGA|    1076|         13.33|              182|         70.0|1732.0|    1|\n",
      "|    5|          28|          6|          B6|ORD|     740|          9.58|              130|         47.0|1191.0|    1|\n",
      "+-----+------------+-----------+------------+---+--------+--------------+-----------------+-------------+------+-----+\n",
      "only showing top 5 rows\n",
      "\n"
     ]
    },
    {
     "data": {
      "text/plain": [
       "206019"
      ]
     },
     "execution_count": 8,
     "metadata": {},
     "output_type": "execute_result"
    }
   ],
   "source": [
    "# Import the required function\n",
    "from pyspark.sql.functions import round\n",
    "\n",
    "# Convert 'mile' to 'km' and drop 'mile' column\n",
    "flights_km = flights_clean.withColumn('km', round(flights_clean.distance * 1.60934, 0)) \\\n",
    "                    .drop('mile')\n",
    "\n",
    "# Create 'label' column indicating whether flight delayed (1) or not (0)\n",
    "flights_km = flights_km.withColumn('label', (flights_km.delay_minutes >= 15).cast('integer'))\n",
    "\n",
    "# Check first five records\n",
    "flights_km.show(5)\n",
    "flights_km.count()\n"
   ]
  },
  {
   "cell_type": "code",
   "execution_count": 9,
   "id": "3ed966d7-8668-4c93-aabe-0af14f48295b",
   "metadata": {},
   "outputs": [
    {
     "name": "stdout",
     "output_type": "stream",
     "text": [
      "+-----+------------+-----------+------------+---+--------+--------------+-----------------+-------------+------+-----+-------------+---------+\n",
      "|month|day_of_month|day_of_week|carrier_code|org|distance|departure_time|expected_duration|delay_minutes|    km|label|carrier_index|org_index|\n",
      "+-----+------------+-----------+------------+---+--------+--------------+-----------------+-------------+------+-----+-------------+---------+\n",
      "|   10|          10|          1|          OO|ORD|     157|          8.18|               51|         27.0| 253.0|    1|          3.0|      0.0|\n",
      "|   11|          22|          1|          OO|ORD|     738|          7.17|              127|        -19.0|1188.0|    0|          3.0|      0.0|\n",
      "|    5|          25|          3|          WN|SJC|     386|         12.92|               85|         22.0| 621.0|    1|          2.0|      5.0|\n",
      "|    3|          28|          1|          B6|LGA|    1076|         13.33|              182|         70.0|1732.0|    1|          4.0|      3.0|\n",
      "|    5|          28|          6|          B6|ORD|     740|          9.58|              130|         47.0|1191.0|    1|          4.0|      0.0|\n",
      "+-----+------------+-----------+------------+---+--------+--------------+-----------------+-------------+------+-----+-------------+---------+\n",
      "only showing top 5 rows\n",
      "\n"
     ]
    }
   ],
   "source": [
    "# Create an indexer, which identifies categories and then creates a new column with numeric index values\n",
    "flights_indexed = StringIndexer(inputCol='carrier_code', outputCol='carrier_index').fit(flights_km).transform(flights_km)\n",
    "\n",
    "# Repeat the process for org column\n",
    "flights_indexed = StringIndexer(inputCol='org', outputCol='org_index').fit(flights_indexed).transform(flights_indexed)\n",
    "flights_indexed.show(5)"
   ]
  },
  {
   "cell_type": "code",
   "execution_count": 10,
   "id": "e6a24981-341a-4213-95ec-cf8e300178ea",
   "metadata": {},
   "outputs": [
    {
     "data": {
      "image/png": "[encoded data removed]",
      "text/plain": [
       "<Figure size 640x480 with 1 Axes>"
      ]
     },
     "metadata": {},
     "output_type": "display_data"
    }
   ],
   "source": [
    "# Data Visualization\n",
    "import matplotlib.pyplot as plt  # Import matplotlib for plotting\n",
    "\n",
    "# Histogram of delay_minutes\n",
    "# Scatter plot of departure_time vs delay_minutes\n",
    "\n",
    "# Collect departure_time and delay_minutes data\n",
    "departure_delay = flights_indexed.select('departure_time', 'delay_minutes').rdd.collect()\n",
    "departure_time, delay_minutes = zip(*departure_delay)\n",
    "\n",
    "# Create scatter plot\n",
    "plt.scatter(departure_time, delay_minutes)  # Plot departure_time vs delay_minutes\n",
    "plt.xlabel('Departure Time')  # Set x-axis label\n",
    "plt.ylabel('Delay (minutes)')  # Set y-axis label\n",
    "plt.title('Scatter Plot of Departure Time vs Delay Minutes')  # Set plot title\n",
    "plt.show()  # Show the plot"
   ]
  },
  {
   "cell_type": "markdown",
   "id": "775989e8-48d9-4c30-bca5-0e4bb8743e0f",
   "metadata": {},
   "source": [
    "The scatter plot is titled “Scatter Plot of Departure Time vs Delay Minutes.”\n",
    "The horizontal axis (x-axis) represents “Departure Time,” ranging from 0 to 25.\n",
    "The vertical axis (y-axis) represents “Delay (minutes),” with values ranging from approximately -75 to 100.\n",
    "The plot contains a dense cluster of data points near the bottom, indicating that most departures experience little to no delay.\r\n",
    "Some isolated data points are scattered across the vertical range, suggesting varied delay times.\r\n",
    "Overall, the distribution implies that while most departures occur with minimal delay, there are instances where delays can be significant.\n"
   ]
  },
  {
   "cell_type": "markdown",
   "id": "4e75d24d-5044-470e-b5d4-840a902569d4",
   "metadata": {},
   "source": [
    "# Splitting the Dataset into Train and test"
   ]
  },
  {
   "cell_type": "code",
   "execution_count": 19,
   "id": "ece92d58-79f1-4072-93cd-453441af60ca",
   "metadata": {},
   "outputs": [
    {
     "name": "stdout",
     "output_type": "stream",
     "text": [
      "Training Dataset Count: 164828\n",
      "Test Dataset Count: 41191\n"
     ]
    }
   ],
   "source": [
    "# Assuming that df is your DataFrame\n",
    "\n",
    "# Split the DataFrame into training and test sets\n",
    "train_df, test_df = flights_indexed.randomSplit([0.8, 0.2], seed=42)\n",
    "\n",
    "# Print the counts of records in the training and test datasets\n",
    "print(f\"Training Dataset Count: {train_df.count()}\")  # Print the count of records in the training dataset\n",
    "print(f\"Test Dataset Count: {test_df.count()}\")  # Print the count of records in the test dataset"
   ]
  },
  {
   "cell_type": "code",
   "execution_count": 12,
   "id": "45f52afe-4c48-4350-87a8-ee44e5d51f9d",
   "metadata": {},
   "outputs": [
    {
     "name": "stdout",
     "output_type": "stream",
     "text": [
      "+---------------------------------------+-------------+\n",
      "|features                               |delay_minutes|\n",
      "+---------------------------------------+-------------+\n",
      "|[0.0,1.0,2.0,1.0,2.0,740.0,15.75,175.0]|17.0         |\n",
      "|[0.0,1.0,2.0,1.0,2.0,944.0,15.75,185.0]|16.0         |\n",
      "|[0.0,1.0,2.0,1.0,2.0,1597.0,6.58,230.0]|50.0         |\n",
      "|[0.0,1.0,2.0,1.0,2.0,1597.0,13.5,225.0]|1.0          |\n",
      "|[0.0,1.0,2.0,1.0,3.0,733.0,10.58,165.0]|-22.0        |\n",
      "+---------------------------------------+-------------+\n",
      "only showing top 5 rows\n",
      "\n"
     ]
    }
   ],
   "source": [
    "# Create an assembler object\n",
    "assembler = VectorAssembler(inputCols=['month', 'day_of_month', 'day_of_week', 'carrier_index', 'org_index', 'distance', 'departure_time', 'expected_duration'], outputCol='features')\n",
    "\n",
    "# Consolidate predictor columns\n",
    "flights_assembled_train = assembler.transform(train_df)\n",
    "\n",
    "# Check the resulting column\n",
    "flights_assembled_train.select('features', 'delay_minutes').show(5, truncate=False)\n"
   ]
  },
  {
   "cell_type": "code",
   "execution_count": 13,
   "id": "b56aed55",
   "metadata": {},
   "outputs": [
    {
     "name": "stdout",
     "output_type": "stream",
     "text": [
      "+----------------------------------------+-------------+\n",
      "|features                                |delay_minutes|\n",
      "+----------------------------------------+-------------+\n",
      "|[0.0,1.0,2.0,1.0,2.0,1391.0,14.92,245.0]|6.0          |\n",
      "|[0.0,1.0,2.0,1.0,3.0,733.0,14.58,165.0] |-4.0         |\n",
      "|[0.0,1.0,2.0,1.0,3.0,733.0,20.0,150.0]  |64.0         |\n",
      "|[0.0,1.0,2.0,1.0,3.0,1097.0,10.67,195.0]|13.0         |\n",
      "|[0.0,1.0,2.0,1.0,3.0,1389.0,6.0,240.0]  |45.0         |\n",
      "+----------------------------------------+-------------+\n",
      "only showing top 5 rows\n",
      "\n"
     ]
    }
   ],
   "source": [
    "# Create an assembler object to assemble predictor columns into a single feature vector column\n",
    "assembler = VectorAssembler(inputCols=['month', 'day_of_month', 'day_of_week', 'carrier_index', 'org_index', 'distance', 'departure_time', 'expected_duration'],\n",
    "                            outputCol='features')  # Define the input and output columns for the assembler\n",
    "\n",
    "# Consolidate predictor columns into a feature vector column\n",
    "flights_assembled_test = assembler.transform(test_df)  # Apply the assembler to the test dataset\n",
    "\n",
    "# Check the resulting columns, including the newly created 'features' column and the 'delay_minutes' column\n",
    "flights_assembled_test.select('features', 'delay_minutes').show(5, truncate=False)  # Display the first 5 rows of the 'features' and 'delay_minutes' columns\n",
    "\n"
   ]
  },
  {
   "cell_type": "markdown",
   "id": "14c6c086-7f4d-46ba-aa71-598c1517fc3c",
   "metadata": {},
   "source": [
    "# Model Selection & Evaluation\n",
    "\n",
    "When predicting flight delays we are typically dealing with regression problems, where we aim to\n",
    "predict a continuous outcome, such as the duration of delay in minutes. Linear regression\n",
    "and random forest regression are two commonly used models for regression tasks in this context. "
   ]
  },
  {
   "cell_type": "code",
   "execution_count": 14,
   "id": "8ded13b6-eb79-4ed2-8999-bb992727102d",
   "metadata": {},
   "outputs": [],
   "source": [
    "from pyspark.ml.regression import LinearRegression  # Import LinearRegression from PySpark ML\n",
    "from pyspark.ml.evaluation import RegressionEvaluator  # Import RegressionEvaluator from PySpark ML\n",
    "\n",
    "# Create a LinearRegression model specifying the features column as 'features' and the label column as 'label'\n",
    "lr = LinearRegression(featuresCol=\"features\", labelCol=\"label\")\n",
    "\n",
    "# Train the LinearRegression model using the training data\n",
    "lr_model = lr.fit(flights_assembled_train)  # Fit the model to the training data\n",
    "\n",
    "# Use the trained model to make predictions on the test data\n",
    "predictions = lr_model.transform(flights_assembled_test)  # Make predictions on the test data\n"
   ]
  },
  {
   "cell_type": "code",
   "execution_count": 15,
   "id": "7cd248c7",
   "metadata": {},
   "outputs": [
    {
     "name": "stdout",
     "output_type": "stream",
     "text": [
      "Mean Squared Error (MSE): 0.2320817525962407\n",
      "Mean Absolute Error (MAE): 0.46449506437825167\n",
      "Root Mean Squared Error (RMSE): 0.481748640471606\n",
      "R-squared (R2): 0.06690978224143962\n"
     ]
    }
   ],
   "source": [
    "# Instantiate the evaluator for regression, specifying the prediction column and the label column\n",
    "evaluator = RegressionEvaluator(predictionCol=\"prediction\", labelCol=\"label\")\n",
    "\n",
    "# Calculate Mean Squared Error (MSE)\n",
    "mse = evaluator.evaluate(predictions, {evaluator.metricName: \"mse\"})  # Evaluate MSE\n",
    "print(\"Mean Squared Error (MSE):\", mse)  # Print MSE\n",
    "\n",
    "# Calculate Mean Absolute Error (MAE)\n",
    "mae = evaluator.evaluate(predictions, {evaluator.metricName: \"mae\"})  # Evaluate MAE\n",
    "print(\"Mean Absolute Error (MAE):\", mae)  # Print MAE\n",
    "\n",
    "# Calculate Root Mean Squared Error (RMSE)\n",
    "rmse = evaluator.evaluate(predictions, {evaluator.metricName: \"rmse\"})  # Evaluate RMSE\n",
    "print(\"Root Mean Squared Error (RMSE):\", rmse)  # Print RMSE\n",
    "\n",
    "# Calculate R-squared (R2)\n",
    "r2 = evaluator.evaluate(predictions, {evaluator.metricName: \"r2\"})  # Evaluate R2\n",
    "print(\"R-squared (R2):\", r2)  # Print R2"
   ]
  },
  {
   "cell_type": "markdown",
   "id": "df971345-125e-4bfa-876d-c0520d8ac661",
   "metadata": {},
   "source": [
    "\n",
    "The Mean Squared Error (MSE) of approximately 0.232 suggests that, on average, the squared difference between the predicted and actual delay duration is relatively low. The Mean Absolute Error (MAE) of around 0.464 indicates that the average absolute difference between predicted and actual delay duration is moderate. The Root Mean Squared Error (RMSE) of about 0.482 implies that the model predictions tend to deviate from the actual delay duration by approximately 0.482 minutes on average. However, the R-squared (R2) value of approximately 0.067 indicates that the linear regression model explains only about 6.79% of the variance in the delay duration"
   ]
  },
  {
   "cell_type": "code",
   "execution_count": 16,
   "id": "1d33a195",
   "metadata": {},
   "outputs": [],
   "source": [
    "from pyspark.ml.regression import RandomForestRegressor  # Import RandomForestRegressor from PySpark ML\n",
    "from pyspark.ml.evaluation import RegressionEvaluator  # Import RegressionEvaluator from PySpark ML\n",
    "\n",
    "# Create a RandomForestRegressor model specifying the features column as 'features' and the label column as 'label'\n",
    "rf = RandomForestRegressor(featuresCol=\"features\", labelCol=\"label\")\n",
    "\n",
    "# Train the RandomForestRegressor model using the training data\n",
    "rf_model = rf.fit(flights_assembled_train)  # Fit the model to the training data\n",
    "\n",
    "# Use the trained model to make predictions on the test data\n",
    "predictions = rf_model.transform(flights_assembled_test)  # Make predictions on the test data"
   ]
  },
  {
   "cell_type": "code",
   "execution_count": 17,
   "id": "fcac01b7",
   "metadata": {},
   "outputs": [
    {
     "name": "stdout",
     "output_type": "stream",
     "text": [
      "Mean Squared Error (MSE): 0.22434733910834395\n",
      "Mean Absolute Error (MAE): 0.45796511051220723\n",
      "Root Mean Squared Error (RMSE): 0.4736531844169782\n",
      "R-squared (R2): 0.09800617601183559\n"
     ]
    }
   ],
   "source": [
    "# Instantiate the evaluator for regression, specifying the prediction column and the label column\n",
    "evaluator = RegressionEvaluator(predictionCol=\"prediction\", labelCol=\"label\")\n",
    "\n",
    "# Calculate Mean Squared Error (MSE)\n",
    "mse = evaluator.evaluate(predictions, {evaluator.metricName: \"mse\"})  # Evaluate MSE\n",
    "print(\"Mean Squared Error (MSE):\", mse)  # Print MSE\n",
    "\n",
    "# Calculate Mean Absolute Error (MAE)\n",
    "mae = evaluator.evaluate(predictions, {evaluator.metricName: \"mae\"})  # Evaluate MAE\n",
    "print(\"Mean Absolute Error (MAE):\", mae)  # Print MAE\n",
    "\n",
    "# Calculate Root Mean Squared Error (RMSE)\n",
    "rmse = evaluator.evaluate(predictions, {evaluator.metricName: \"rmse\"})  # Evaluate RMSE\n",
    "print(\"Root Mean Squared Error (RMSE):\", rmse)  # Print RMSE\n",
    "\n",
    "# Calculate R-squared (R2)\n",
    "r2 = evaluator.evaluate(predictions, {evaluator.metricName: \"r2\"})  # Evaluate R2\n",
    "print(\"R-squared (R2):\", r2)  # Print R2"
   ]
  },
  {
   "cell_type": "markdown",
   "id": "c9668b8c-53ca-4018-9f78-52e277a9e760",
   "metadata": {},
   "source": [
    "Mean Squared Error (MSE): The MSE is approximately 0.225, which indicates that, on average, the squared difference between the predicted and actual delay duration is relatively low.\n",
    "\n",
    "Mean Absolute Error (MAE): The MAE is around 0.458, implying that the average absolute difference between predicted and actual delay duration is moderate.\n",
    "\n",
    "Root Mean Squared Error (RMSE): The RMSE is about 0.474, suggesting that the model's predictions tend to deviate from the actual delay duration by approximately 0.474 minutes on average.\n",
    "\n",
    "R-squared (R2): The R2 value is approximately 0.096, indicating that the random forest regression model explains about 9.66% of the variance in the delay duration."
   ]
  },
  {
   "cell_type": "code",
   "execution_count": null,
   "id": "3fdfba9e-7833-4345-8a32-cb01cc221233",
   "metadata": {},
   "outputs": [],
   "source": []
  },
  {
   "cell_type": "code",
   "execution_count": null,
   "id": "c8baa0bd-3148-412e-b14c-297eea64049d",
   "metadata": {},
   "outputs": [],
   "source": []
  }
 ],
 "metadata": {
  "kernelspec": {
   "display_name": "Python 3 (ipykernel)",
   "language": "python",
   "name": "python3"
  },
  "language_info": {
   "codemirror_mode": {
    "name": "ipython",
    "version": 3
   },
   "file_extension": ".py",
   "mimetype": "text/x-python",
   "name": "python",
   "nbconvert_exporter": "python",
   "pygments_lexer": "ipython3",
   "version": "3.11.5"
  }
 },
 "nbformat": 4,
 "nbformat_minor": 5
}
